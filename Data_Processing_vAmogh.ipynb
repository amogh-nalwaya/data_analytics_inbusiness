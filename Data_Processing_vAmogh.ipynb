{
 "cells": [
  {
   "cell_type": "code",
   "execution_count": 1,
   "metadata": {},
   "outputs": [],
   "source": [
    "import sys\n",
    "sys.path.append('../')\n",
    "import numpy as np\n",
    "import pandas as pd\n",
    "from collections import Counter, defaultdict\n",
    "import csv\n",
    "import math\n",
    "import operator"
   ]
  },
  {
   "cell_type": "code",
   "execution_count": 16,
   "metadata": {},
   "outputs": [],
   "source": [
    "df_demographic = pd.read_csv('hh_demographic.csv')"
   ]
  },
  {
   "cell_type": "code",
   "execution_count": 18,
   "metadata": {},
   "outputs": [
    {
     "name": "stdout",
     "output_type": "stream",
     "text": [
      "801\n"
     ]
    }
   ],
   "source": [
    "print(len(df_demographic['household_key'].unique()))"
   ]
  },
  {
   "cell_type": "code",
   "execution_count": 6,
   "metadata": {},
   "outputs": [
    {
     "name": "stdout",
     "output_type": "stream",
     "text": [
      "['65+' '45-54' '25-34' '35-44' '19-24' '55-64']\n"
     ]
    }
   ],
   "source": [
    "print(df_demographic['AGE_DESC'].unique())"
   ]
  },
  {
   "cell_type": "code",
   "execution_count": 7,
   "metadata": {},
   "outputs": [
    {
     "data": {
      "text/plain": [
       "801"
      ]
     },
     "execution_count": 7,
     "metadata": {},
     "output_type": "execute_result"
    }
   ],
   "source": [
    "len(df_demographic)"
   ]
  },
  {
   "cell_type": "code",
   "execution_count": 8,
   "metadata": {},
   "outputs": [
    {
     "data": {
      "text/plain": [
       "801"
      ]
     },
     "execution_count": 8,
     "metadata": {},
     "output_type": "execute_result"
    }
   ],
   "source": [
    "len(df_demographic['household_key'].unique())"
   ]
  },
  {
   "cell_type": "code",
   "execution_count": 9,
   "metadata": {},
   "outputs": [
    {
     "name": "stdout",
     "output_type": "stream",
     "text": [
      "['35-49K' '50-74K' '25-34K' '75-99K' 'Under 15K' '100-124K' '15-24K'\n",
      " '125-149K' '150-174K' '250K+' '175-199K' '200-249K']\n"
     ]
    }
   ],
   "source": [
    "print(df_demographic['INCOME_DESC'].unique())"
   ]
  },
  {
   "cell_type": "code",
   "execution_count": 10,
   "metadata": {},
   "outputs": [
    {
     "name": "stdout",
     "output_type": "stream",
     "text": [
      "['Homeowner' 'Unknown' 'Renter' 'Probable Renter' 'Probable Owner']\n"
     ]
    }
   ],
   "source": [
    "print(df_demographic['HOMEOWNER_DESC'].unique())"
   ]
  },
  {
   "cell_type": "code",
   "execution_count": 11,
   "metadata": {},
   "outputs": [
    {
     "name": "stdout",
     "output_type": "stream",
     "text": [
      "['None/Unknown' '1' '2' '3+']\n"
     ]
    }
   ],
   "source": [
    "print(df_demographic['KID_CATEGORY_DESC'].unique())"
   ]
  },
  {
   "cell_type": "code",
   "execution_count": 12,
   "metadata": {},
   "outputs": [
    {
     "name": "stdout",
     "output_type": "stream",
     "text": [
      "   household_key    BASKET_ID  DAY  PRODUCT_ID  QUANTITY  SALES_VALUE  \\\n",
      "0           2375  26984851472    1     1004906         1         1.39   \n",
      "1           2375  26984851472    1     1033142         1         0.82   \n",
      "2           2375  26984851472    1     1036325         1         0.99   \n",
      "3           2375  26984851472    1     1082185         1         1.21   \n",
      "4           2375  26984851472    1     8160430         1         1.50   \n",
      "\n",
      "   STORE_ID  RETAIL_DISC  TRANS_TIME  WEEK_NO  COUPON_DISC  COUPON_MATCH_DISC  \n",
      "0       364        -0.60        1631        1          0.0                0.0  \n",
      "1       364         0.00        1631        1          0.0                0.0  \n",
      "2       364        -0.30        1631        1          0.0                0.0  \n",
      "3       364         0.00        1631        1          0.0                0.0  \n",
      "4       364        -0.39        1631        1          0.0                0.0  \n"
     ]
    }
   ],
   "source": [
    "df_transaction = pd.read_csv('transaction_data.csv')\n",
    "print(df_transaction.head())"
   ]
  },
  {
   "cell_type": "code",
   "execution_count": 74,
   "metadata": {},
   "outputs": [],
   "source": [
    "df_coup_red = pd.read_csv('coupon_redempt.csv', dtype={'COUPON_UPC': str})"
   ]
  },
  {
   "cell_type": "code",
   "execution_count": 21,
   "metadata": {},
   "outputs": [
    {
     "data": {
      "text/plain": [
       "2318"
      ]
     },
     "execution_count": 21,
     "metadata": {},
     "output_type": "execute_result"
    }
   ],
   "source": [
    "len(df_coup_red)"
   ]
  },
  {
   "cell_type": "code",
   "execution_count": 22,
   "metadata": {},
   "outputs": [
    {
     "name": "stdout",
     "output_type": "stream",
     "text": [
      "1762\n"
     ]
    }
   ],
   "source": [
    "coupon_hh = sum(df_coup_red.duplicated(['COUPON_UPC']))\n",
    "print(coupon_hh)"
   ]
  },
  {
   "cell_type": "code",
   "execution_count": 25,
   "metadata": {},
   "outputs": [],
   "source": [
    "df_coup_red_dup = df_coup_red[df_coup_red.duplicated(['COUPON_UPC'])].sort_values(['COUPON_UPC'])"
   ]
  },
  {
   "cell_type": "code",
   "execution_count": 26,
   "metadata": {},
   "outputs": [
    {
     "name": "stdout",
     "output_type": "stream",
     "text": [
      "      household_key  DAY   COUPON_UPC  CAMPAIGN\n",
      "572             588  348  10000085320        30\n",
      "411             389  442  10000085361         8\n",
      "598             605  427  10000085361         8\n",
      "1430           1708  425  10000085361         8\n",
      "331             306  420  10000085361         8\n",
      "319             294  424  10000085361         8\n",
      "1421           1693  455  10000085361         8\n",
      "186             117  426  10000085361         8\n",
      "305             276  437  10000085361         8\n",
      "1407           1677  425  10000085361         8\n",
      "543             574  417  10000085361         8\n",
      "2192           2430  424  10000085361         8\n",
      "272             256  429  10000085361         8\n",
      "1690           1965  418  10000085361         8\n",
      "258             243  417  10000085361         8\n",
      "1126           1337  416  10000085361         8\n",
      "528             545  459  10000085361         8\n",
      "1132           1356  421  10000085361         8\n",
      "2215           2451  415  10000085361         8\n",
      "1596           1864  430  10000085361         8\n"
     ]
    }
   ],
   "source": [
    "print(df_coup_red_dup.head(20))"
   ]
  },
  {
   "cell_type": "code",
   "execution_count": 6,
   "metadata": {},
   "outputs": [],
   "source": [
    "coupon_count = df_coup_red.groupby([\"CAMPAIGN\"]).agg('count')"
   ]
  },
  {
   "cell_type": "code",
   "execution_count": 8,
   "metadata": {},
   "outputs": [
    {
     "data": {
      "text/html": [
       "<div>\n",
       "<style scoped>\n",
       "    .dataframe tbody tr th:only-of-type {\n",
       "        vertical-align: middle;\n",
       "    }\n",
       "\n",
       "    .dataframe tbody tr th {\n",
       "        vertical-align: top;\n",
       "    }\n",
       "\n",
       "    .dataframe thead th {\n",
       "        text-align: right;\n",
       "    }\n",
       "</style>\n",
       "<table border=\"1\" class=\"dataframe\">\n",
       "  <thead>\n",
       "    <tr style=\"text-align: right;\">\n",
       "      <th></th>\n",
       "      <th>household_key</th>\n",
       "      <th>DAY</th>\n",
       "      <th>COUPON_UPC</th>\n",
       "    </tr>\n",
       "    <tr>\n",
       "      <th>CAMPAIGN</th>\n",
       "      <th></th>\n",
       "      <th></th>\n",
       "      <th></th>\n",
       "    </tr>\n",
       "  </thead>\n",
       "  <tbody>\n",
       "    <tr>\n",
       "      <th>1</th>\n",
       "      <td>1</td>\n",
       "      <td>1</td>\n",
       "      <td>1</td>\n",
       "    </tr>\n",
       "    <tr>\n",
       "      <th>2</th>\n",
       "      <td>5</td>\n",
       "      <td>5</td>\n",
       "      <td>5</td>\n",
       "    </tr>\n",
       "    <tr>\n",
       "      <th>3</th>\n",
       "      <td>2</td>\n",
       "      <td>2</td>\n",
       "      <td>2</td>\n",
       "    </tr>\n",
       "    <tr>\n",
       "      <th>4</th>\n",
       "      <td>11</td>\n",
       "      <td>11</td>\n",
       "      <td>11</td>\n",
       "    </tr>\n",
       "    <tr>\n",
       "      <th>5</th>\n",
       "      <td>13</td>\n",
       "      <td>13</td>\n",
       "      <td>13</td>\n",
       "    </tr>\n",
       "    <tr>\n",
       "      <th>6</th>\n",
       "      <td>1</td>\n",
       "      <td>1</td>\n",
       "      <td>1</td>\n",
       "    </tr>\n",
       "    <tr>\n",
       "      <th>7</th>\n",
       "      <td>7</td>\n",
       "      <td>7</td>\n",
       "      <td>7</td>\n",
       "    </tr>\n",
       "    <tr>\n",
       "      <th>8</th>\n",
       "      <td>372</td>\n",
       "      <td>372</td>\n",
       "      <td>372</td>\n",
       "    </tr>\n",
       "    <tr>\n",
       "      <th>9</th>\n",
       "      <td>43</td>\n",
       "      <td>43</td>\n",
       "      <td>43</td>\n",
       "    </tr>\n",
       "    <tr>\n",
       "      <th>10</th>\n",
       "      <td>15</td>\n",
       "      <td>15</td>\n",
       "      <td>15</td>\n",
       "    </tr>\n",
       "    <tr>\n",
       "      <th>11</th>\n",
       "      <td>8</td>\n",
       "      <td>8</td>\n",
       "      <td>8</td>\n",
       "    </tr>\n",
       "    <tr>\n",
       "      <th>12</th>\n",
       "      <td>26</td>\n",
       "      <td>26</td>\n",
       "      <td>26</td>\n",
       "    </tr>\n",
       "    <tr>\n",
       "      <th>13</th>\n",
       "      <td>629</td>\n",
       "      <td>629</td>\n",
       "      <td>629</td>\n",
       "    </tr>\n",
       "    <tr>\n",
       "      <th>14</th>\n",
       "      <td>34</td>\n",
       "      <td>34</td>\n",
       "      <td>34</td>\n",
       "    </tr>\n",
       "    <tr>\n",
       "      <th>15</th>\n",
       "      <td>2</td>\n",
       "      <td>2</td>\n",
       "      <td>2</td>\n",
       "    </tr>\n",
       "    <tr>\n",
       "      <th>16</th>\n",
       "      <td>43</td>\n",
       "      <td>43</td>\n",
       "      <td>43</td>\n",
       "    </tr>\n",
       "    <tr>\n",
       "      <th>17</th>\n",
       "      <td>45</td>\n",
       "      <td>45</td>\n",
       "      <td>45</td>\n",
       "    </tr>\n",
       "    <tr>\n",
       "      <th>18</th>\n",
       "      <td>653</td>\n",
       "      <td>653</td>\n",
       "      <td>653</td>\n",
       "    </tr>\n",
       "    <tr>\n",
       "      <th>19</th>\n",
       "      <td>29</td>\n",
       "      <td>29</td>\n",
       "      <td>29</td>\n",
       "    </tr>\n",
       "    <tr>\n",
       "      <th>20</th>\n",
       "      <td>33</td>\n",
       "      <td>33</td>\n",
       "      <td>33</td>\n",
       "    </tr>\n",
       "    <tr>\n",
       "      <th>21</th>\n",
       "      <td>5</td>\n",
       "      <td>5</td>\n",
       "      <td>5</td>\n",
       "    </tr>\n",
       "    <tr>\n",
       "      <th>22</th>\n",
       "      <td>47</td>\n",
       "      <td>47</td>\n",
       "      <td>47</td>\n",
       "    </tr>\n",
       "    <tr>\n",
       "      <th>23</th>\n",
       "      <td>60</td>\n",
       "      <td>60</td>\n",
       "      <td>60</td>\n",
       "    </tr>\n",
       "    <tr>\n",
       "      <th>24</th>\n",
       "      <td>10</td>\n",
       "      <td>10</td>\n",
       "      <td>10</td>\n",
       "    </tr>\n",
       "    <tr>\n",
       "      <th>25</th>\n",
       "      <td>61</td>\n",
       "      <td>61</td>\n",
       "      <td>61</td>\n",
       "    </tr>\n",
       "    <tr>\n",
       "      <th>26</th>\n",
       "      <td>73</td>\n",
       "      <td>73</td>\n",
       "      <td>73</td>\n",
       "    </tr>\n",
       "    <tr>\n",
       "      <th>27</th>\n",
       "      <td>1</td>\n",
       "      <td>1</td>\n",
       "      <td>1</td>\n",
       "    </tr>\n",
       "    <tr>\n",
       "      <th>28</th>\n",
       "      <td>1</td>\n",
       "      <td>1</td>\n",
       "      <td>1</td>\n",
       "    </tr>\n",
       "    <tr>\n",
       "      <th>29</th>\n",
       "      <td>24</td>\n",
       "      <td>24</td>\n",
       "      <td>24</td>\n",
       "    </tr>\n",
       "    <tr>\n",
       "      <th>30</th>\n",
       "      <td>64</td>\n",
       "      <td>64</td>\n",
       "      <td>64</td>\n",
       "    </tr>\n",
       "  </tbody>\n",
       "</table>\n",
       "</div>"
      ],
      "text/plain": [
       "          household_key  DAY  COUPON_UPC\n",
       "CAMPAIGN                                \n",
       "1                     1    1           1\n",
       "2                     5    5           5\n",
       "3                     2    2           2\n",
       "4                    11   11          11\n",
       "5                    13   13          13\n",
       "6                     1    1           1\n",
       "7                     7    7           7\n",
       "8                   372  372         372\n",
       "9                    43   43          43\n",
       "10                   15   15          15\n",
       "11                    8    8           8\n",
       "12                   26   26          26\n",
       "13                  629  629         629\n",
       "14                   34   34          34\n",
       "15                    2    2           2\n",
       "16                   43   43          43\n",
       "17                   45   45          45\n",
       "18                  653  653         653\n",
       "19                   29   29          29\n",
       "20                   33   33          33\n",
       "21                    5    5           5\n",
       "22                   47   47          47\n",
       "23                   60   60          60\n",
       "24                   10   10          10\n",
       "25                   61   61          61\n",
       "26                   73   73          73\n",
       "27                    1    1           1\n",
       "28                    1    1           1\n",
       "29                   24   24          24\n",
       "30                   64   64          64"
      ]
     },
     "execution_count": 8,
     "metadata": {},
     "output_type": "execute_result"
    }
   ],
   "source": [
    "coupon_count"
   ]
  },
  {
   "cell_type": "code",
   "execution_count": 9,
   "metadata": {},
   "outputs": [],
   "source": [
    "camp_18_coupons = df_coup_red[df_coup_red.CAMPAIGN == 18]"
   ]
  },
  {
   "cell_type": "code",
   "execution_count": 10,
   "metadata": {},
   "outputs": [
    {
     "data": {
      "text/plain": [
       "653"
      ]
     },
     "execution_count": 10,
     "metadata": {},
     "output_type": "execute_result"
    }
   ],
   "source": [
    "len(camp_18_coupons)"
   ]
  },
  {
   "cell_type": "code",
   "execution_count": 11,
   "metadata": {},
   "outputs": [
    {
     "data": {
      "text/html": [
       "<div>\n",
       "<style scoped>\n",
       "    .dataframe tbody tr th:only-of-type {\n",
       "        vertical-align: middle;\n",
       "    }\n",
       "\n",
       "    .dataframe tbody tr th {\n",
       "        vertical-align: top;\n",
       "    }\n",
       "\n",
       "    .dataframe thead th {\n",
       "        text-align: right;\n",
       "    }\n",
       "</style>\n",
       "<table border=\"1\" class=\"dataframe\">\n",
       "  <thead>\n",
       "    <tr style=\"text-align: right;\">\n",
       "      <th></th>\n",
       "      <th>household_key</th>\n",
       "      <th>DAY</th>\n",
       "      <th>COUPON_UPC</th>\n",
       "      <th>CAMPAIGN</th>\n",
       "    </tr>\n",
       "  </thead>\n",
       "  <tbody>\n",
       "    <tr>\n",
       "      <th>3</th>\n",
       "      <td>1</td>\n",
       "      <td>597</td>\n",
       "      <td>10000085476</td>\n",
       "      <td>18</td>\n",
       "    </tr>\n",
       "    <tr>\n",
       "      <th>4</th>\n",
       "      <td>1</td>\n",
       "      <td>597</td>\n",
       "      <td>54200029176</td>\n",
       "      <td>18</td>\n",
       "    </tr>\n",
       "    <tr>\n",
       "      <th>17</th>\n",
       "      <td>13</td>\n",
       "      <td>609</td>\n",
       "      <td>10000089277</td>\n",
       "      <td>18</td>\n",
       "    </tr>\n",
       "    <tr>\n",
       "      <th>18</th>\n",
       "      <td>13</td>\n",
       "      <td>609</td>\n",
       "      <td>51800015050</td>\n",
       "      <td>18</td>\n",
       "    </tr>\n",
       "    <tr>\n",
       "      <th>19</th>\n",
       "      <td>13</td>\n",
       "      <td>609</td>\n",
       "      <td>53500035050</td>\n",
       "      <td>18</td>\n",
       "    </tr>\n",
       "  </tbody>\n",
       "</table>\n",
       "</div>"
      ],
      "text/plain": [
       "    household_key  DAY   COUPON_UPC  CAMPAIGN\n",
       "3               1  597  10000085476        18\n",
       "4               1  597  54200029176        18\n",
       "17             13  609  10000089277        18\n",
       "18             13  609  51800015050        18\n",
       "19             13  609  53500035050        18"
      ]
     },
     "execution_count": 11,
     "metadata": {},
     "output_type": "execute_result"
    }
   ],
   "source": [
    "camp_18_coupons.head()"
   ]
  },
  {
   "cell_type": "code",
   "execution_count": 13,
   "metadata": {},
   "outputs": [
    {
     "name": "stdout",
     "output_type": "stream",
     "text": [
      "[10000085476 54200029176 10000089277 51800015050 53500035050 54105800093\n",
      " 53980010082 10000085475 55000013950 52500010050 10000085484 10000089284\n",
      " 51600070033 51800010250 54300026050 54850010033 57410101082 52000030042\n",
      " 54060060076 54133500050 54154888076 10000089290 51906341075 53010010033\n",
      " 57631000076 57218040076 54900050076 10000085477 10000085479 51960010076\n",
      " 52100023024 52840001082 55410000076 10000089257 51111120001 51570011042\n",
      " 57294010033 10000089248 51600030101 57680000050 53800050033 51920021576\n",
      " 10000089266 53700026850 57332150033 10000085478 52200090076 57143020076\n",
      " 53160401082 51200000076 52113100033 10000089251 51116200076 57124960082\n",
      " 56687861776 53700013182 10000089250 54800111033 10000089244 10000089272\n",
      " 55480017133 50581447025 10000089240 10000089285 10000089252 55703711082\n",
      " 51862700076 52800051098 10000089306 10000089271 57144800076 53120026033\n",
      " 10000089263 10000089270 10000089239 52570016075 50004510076 55400061078\n",
      " 10000089246 10000089253 10000089288 51111114101 53210060033 54420930024\n",
      " 50004518076 55000013933 10000089237 53700067076 57231020034 58304613450\n",
      " 52260010055 51258700050 57790113076 51809461078 50308412050 51780034082\n",
      " 53760073676 10000089265 50930030075 10000089304 53700061674 57050100082\n",
      " 51780071276 10000089305 55100000013 55100043133 10000089300 53700051551\n",
      " 51011913593 10000089259 53400061150 51298810078 10000089302 51200092776\n",
      " 10000089276 53770000076 10000089269 52100054076 10000089278 52310000076\n",
      " 10000089283]\n"
     ]
    }
   ],
   "source": [
    "camp_18_coupons_list = camp_18_coupons['COUPON_UPC'].unique()\n",
    "print(camp_18_coupons_list)"
   ]
  },
  {
   "cell_type": "code",
   "execution_count": 14,
   "metadata": {},
   "outputs": [],
   "source": [
    "df_transactions = pd.read_csv('transaction_data.csv')"
   ]
  },
  {
   "cell_type": "code",
   "execution_count": 15,
   "metadata": {},
   "outputs": [
    {
     "name": "stdout",
     "output_type": "stream",
     "text": [
      "   household_key    BASKET_ID  DAY  PRODUCT_ID  QUANTITY  SALES_VALUE  \\\n",
      "0           2375  26984851472    1     1004906         1         1.39   \n",
      "1           2375  26984851472    1     1033142         1         0.82   \n",
      "2           2375  26984851472    1     1036325         1         0.99   \n",
      "3           2375  26984851472    1     1082185         1         1.21   \n",
      "4           2375  26984851472    1     8160430         1         1.50   \n",
      "\n",
      "   STORE_ID  RETAIL_DISC  TRANS_TIME  WEEK_NO  COUPON_DISC  COUPON_MATCH_DISC  \n",
      "0       364        -0.60        1631        1          0.0                0.0  \n",
      "1       364         0.00        1631        1          0.0                0.0  \n",
      "2       364        -0.30        1631        1          0.0                0.0  \n",
      "3       364         0.00        1631        1          0.0                0.0  \n",
      "4       364        -0.39        1631        1          0.0                0.0  \n"
     ]
    }
   ],
   "source": [
    "print(df_transactions.head())"
   ]
  },
  {
   "cell_type": "code",
   "execution_count": 127,
   "metadata": {},
   "outputs": [],
   "source": [
    "df_coup = pd.read_csv('coupon.csv', dtype={'COUPON_UPC': str, 'CAMPAIGN': str, 'PRODUCT_ID': str})\n",
    "#len(df_coup[df_coup['COUPON_UPC'].apply(lambda x: True if str(x) == '10000085364' else False)])\n"
   ]
  },
  {
   "cell_type": "code",
   "execution_count": 128,
   "metadata": {},
   "outputs": [],
   "source": [
    "df_coup_red = pd.read_csv('coupon_redempt.csv', dtype={'COUPON_UPC': str, 'household_key': str, 'DAY': str, 'CAMPAIGN': str})"
   ]
  },
  {
   "cell_type": "code",
   "execution_count": 129,
   "metadata": {},
   "outputs": [],
   "source": [
    "df_merged_coup_red_coup = df_coup.merge(df_coup_red, on=['COUPON_UPC', 'CAMPAIGN'], how='left')"
   ]
  },
  {
   "cell_type": "code",
   "execution_count": 143,
   "metadata": {},
   "outputs": [
    {
     "data": {
      "text/plain": [
       "4486"
      ]
     },
     "execution_count": 143,
     "metadata": {},
     "output_type": "execute_result"
    }
   ],
   "source": [
    "#df_merged_coup_red_coup.head()\n",
    "df1 = df_merged_coup_red_coup[df_merged_coup_red_coup['household_key'] == '208']\n",
    "#df1 = df1[df1['CAMPAIGN'] == '22']\n",
    "len(df1)"
   ]
  },
  {
   "cell_type": "code",
   "execution_count": 146,
   "metadata": {},
   "outputs": [
    {
     "data": {
      "text/plain": [
       "6"
      ]
     },
     "execution_count": 146,
     "metadata": {},
     "output_type": "execute_result"
    }
   ],
   "source": [
    "len(df_coup_red[df_coup_red['household_key'] == '208'])\n",
    "#df_coup.head()"
   ]
  },
  {
   "cell_type": "code",
   "execution_count": 131,
   "metadata": {},
   "outputs": [],
   "source": [
    "df_transaction = pd.read_csv('transaction_data.csv', dtype={'BASKET_ID': str, 'PRODUCT_ID': str, 'household_key': str, 'DAY': str})"
   ]
  },
  {
   "cell_type": "code",
   "execution_count": 132,
   "metadata": {
    "scrolled": true
   },
   "outputs": [
    {
     "data": {
      "text/html": [
       "<div>\n",
       "<style scoped>\n",
       "    .dataframe tbody tr th:only-of-type {\n",
       "        vertical-align: middle;\n",
       "    }\n",
       "\n",
       "    .dataframe tbody tr th {\n",
       "        vertical-align: top;\n",
       "    }\n",
       "\n",
       "    .dataframe thead th {\n",
       "        text-align: right;\n",
       "    }\n",
       "</style>\n",
       "<table border=\"1\" class=\"dataframe\">\n",
       "  <thead>\n",
       "    <tr style=\"text-align: right;\">\n",
       "      <th></th>\n",
       "      <th>household_key</th>\n",
       "      <th>BASKET_ID</th>\n",
       "      <th>DAY</th>\n",
       "      <th>PRODUCT_ID</th>\n",
       "      <th>QUANTITY</th>\n",
       "      <th>SALES_VALUE</th>\n",
       "      <th>STORE_ID</th>\n",
       "      <th>RETAIL_DISC</th>\n",
       "      <th>TRANS_TIME</th>\n",
       "      <th>WEEK_NO</th>\n",
       "      <th>COUPON_DISC</th>\n",
       "      <th>COUPON_MATCH_DISC</th>\n",
       "    </tr>\n",
       "  </thead>\n",
       "  <tbody>\n",
       "    <tr>\n",
       "      <th>0</th>\n",
       "      <td>2375</td>\n",
       "      <td>26984851472</td>\n",
       "      <td>1</td>\n",
       "      <td>1004906</td>\n",
       "      <td>1</td>\n",
       "      <td>1.39</td>\n",
       "      <td>364</td>\n",
       "      <td>-0.60</td>\n",
       "      <td>1631</td>\n",
       "      <td>1</td>\n",
       "      <td>0.0</td>\n",
       "      <td>0.0</td>\n",
       "    </tr>\n",
       "    <tr>\n",
       "      <th>1</th>\n",
       "      <td>2375</td>\n",
       "      <td>26984851472</td>\n",
       "      <td>1</td>\n",
       "      <td>1033142</td>\n",
       "      <td>1</td>\n",
       "      <td>0.82</td>\n",
       "      <td>364</td>\n",
       "      <td>0.00</td>\n",
       "      <td>1631</td>\n",
       "      <td>1</td>\n",
       "      <td>0.0</td>\n",
       "      <td>0.0</td>\n",
       "    </tr>\n",
       "    <tr>\n",
       "      <th>2</th>\n",
       "      <td>2375</td>\n",
       "      <td>26984851472</td>\n",
       "      <td>1</td>\n",
       "      <td>1036325</td>\n",
       "      <td>1</td>\n",
       "      <td>0.99</td>\n",
       "      <td>364</td>\n",
       "      <td>-0.30</td>\n",
       "      <td>1631</td>\n",
       "      <td>1</td>\n",
       "      <td>0.0</td>\n",
       "      <td>0.0</td>\n",
       "    </tr>\n",
       "    <tr>\n",
       "      <th>3</th>\n",
       "      <td>2375</td>\n",
       "      <td>26984851472</td>\n",
       "      <td>1</td>\n",
       "      <td>1082185</td>\n",
       "      <td>1</td>\n",
       "      <td>1.21</td>\n",
       "      <td>364</td>\n",
       "      <td>0.00</td>\n",
       "      <td>1631</td>\n",
       "      <td>1</td>\n",
       "      <td>0.0</td>\n",
       "      <td>0.0</td>\n",
       "    </tr>\n",
       "    <tr>\n",
       "      <th>4</th>\n",
       "      <td>2375</td>\n",
       "      <td>26984851472</td>\n",
       "      <td>1</td>\n",
       "      <td>8160430</td>\n",
       "      <td>1</td>\n",
       "      <td>1.50</td>\n",
       "      <td>364</td>\n",
       "      <td>-0.39</td>\n",
       "      <td>1631</td>\n",
       "      <td>1</td>\n",
       "      <td>0.0</td>\n",
       "      <td>0.0</td>\n",
       "    </tr>\n",
       "  </tbody>\n",
       "</table>\n",
       "</div>"
      ],
      "text/plain": [
       "  household_key    BASKET_ID DAY PRODUCT_ID  QUANTITY  SALES_VALUE  STORE_ID  \\\n",
       "0          2375  26984851472   1    1004906         1         1.39       364   \n",
       "1          2375  26984851472   1    1033142         1         0.82       364   \n",
       "2          2375  26984851472   1    1036325         1         0.99       364   \n",
       "3          2375  26984851472   1    1082185         1         1.21       364   \n",
       "4          2375  26984851472   1    8160430         1         1.50       364   \n",
       "\n",
       "   RETAIL_DISC  TRANS_TIME  WEEK_NO  COUPON_DISC  COUPON_MATCH_DISC  \n",
       "0        -0.60        1631        1          0.0                0.0  \n",
       "1         0.00        1631        1          0.0                0.0  \n",
       "2        -0.30        1631        1          0.0                0.0  \n",
       "3         0.00        1631        1          0.0                0.0  \n",
       "4        -0.39        1631        1          0.0                0.0  "
      ]
     },
     "execution_count": 132,
     "metadata": {},
     "output_type": "execute_result"
    }
   ],
   "source": [
    "df_transaction.head()"
   ]
  },
  {
   "cell_type": "code",
   "execution_count": 141,
   "metadata": {},
   "outputs": [],
   "source": [
    "df_john = df_transaction[(df_transaction['household_key'] == '208') & (df_transaction['COUPON_DISC'] != 0.0)]"
   ]
  },
  {
   "cell_type": "code",
   "execution_count": 142,
   "metadata": {},
   "outputs": [
    {
     "data": {
      "text/plain": [
       "166"
      ]
     },
     "execution_count": 142,
     "metadata": {},
     "output_type": "execute_result"
    }
   ],
   "source": [
    "len(df_john)"
   ]
  },
  {
   "cell_type": "code",
   "execution_count": 119,
   "metadata": {},
   "outputs": [],
   "source": [
    "df_merged_coup_red_coup_transaction = df_transaction.merge(df_merged_coup_red_coup, on=['household_key', 'DAY', 'PRODUCT_ID'], how='left')"
   ]
  },
  {
   "cell_type": "code",
   "execution_count": 126,
   "metadata": {},
   "outputs": [
    {
     "data": {
      "text/html": [
       "<div>\n",
       "<style scoped>\n",
       "    .dataframe tbody tr th:only-of-type {\n",
       "        vertical-align: middle;\n",
       "    }\n",
       "\n",
       "    .dataframe tbody tr th {\n",
       "        vertical-align: top;\n",
       "    }\n",
       "\n",
       "    .dataframe thead th {\n",
       "        text-align: right;\n",
       "    }\n",
       "</style>\n",
       "<table border=\"1\" class=\"dataframe\">\n",
       "  <thead>\n",
       "    <tr style=\"text-align: right;\">\n",
       "      <th></th>\n",
       "      <th>household_key</th>\n",
       "      <th>BASKET_ID</th>\n",
       "      <th>DAY</th>\n",
       "      <th>PRODUCT_ID</th>\n",
       "      <th>QUANTITY</th>\n",
       "      <th>SALES_VALUE</th>\n",
       "      <th>STORE_ID</th>\n",
       "      <th>RETAIL_DISC</th>\n",
       "      <th>TRANS_TIME</th>\n",
       "      <th>WEEK_NO</th>\n",
       "      <th>COUPON_DISC</th>\n",
       "      <th>COUPON_MATCH_DISC</th>\n",
       "      <th>COUPON_UPC</th>\n",
       "      <th>CAMPAIGN</th>\n",
       "    </tr>\n",
       "  </thead>\n",
       "  <tbody>\n",
       "    <tr>\n",
       "      <th>1444279</th>\n",
       "      <td>208</td>\n",
       "      <td>33293475744</td>\n",
       "      <td>427</td>\n",
       "      <td>1004895</td>\n",
       "      <td>2</td>\n",
       "      <td>4.58</td>\n",
       "      <td>327</td>\n",
       "      <td>-1.20</td>\n",
       "      <td>1237</td>\n",
       "      <td>62</td>\n",
       "      <td>-1.0</td>\n",
       "      <td>0.0</td>\n",
       "      <td>55100090033</td>\n",
       "      <td>8</td>\n",
       "    </tr>\n",
       "    <tr>\n",
       "      <th>2120842</th>\n",
       "      <td>208</td>\n",
       "      <td>40666652921</td>\n",
       "      <td>597</td>\n",
       "      <td>1017772</td>\n",
       "      <td>1</td>\n",
       "      <td>0.88</td>\n",
       "      <td>327</td>\n",
       "      <td>-0.61</td>\n",
       "      <td>2039</td>\n",
       "      <td>86</td>\n",
       "      <td>-0.5</td>\n",
       "      <td>-0.5</td>\n",
       "      <td>51800015050</td>\n",
       "      <td>18</td>\n",
       "    </tr>\n",
       "    <tr>\n",
       "      <th>2120855</th>\n",
       "      <td>208</td>\n",
       "      <td>40666652921</td>\n",
       "      <td>597</td>\n",
       "      <td>15596461</td>\n",
       "      <td>1</td>\n",
       "      <td>2.24</td>\n",
       "      <td>327</td>\n",
       "      <td>-0.75</td>\n",
       "      <td>2039</td>\n",
       "      <td>86</td>\n",
       "      <td>-1.0</td>\n",
       "      <td>0.0</td>\n",
       "      <td>51920021576</td>\n",
       "      <td>18</td>\n",
       "    </tr>\n",
       "    <tr>\n",
       "      <th>2138131</th>\n",
       "      <td>208</td>\n",
       "      <td>40715247809</td>\n",
       "      <td>601</td>\n",
       "      <td>896292</td>\n",
       "      <td>2</td>\n",
       "      <td>4.00</td>\n",
       "      <td>327</td>\n",
       "      <td>-2.58</td>\n",
       "      <td>1914</td>\n",
       "      <td>87</td>\n",
       "      <td>-1.0</td>\n",
       "      <td>0.0</td>\n",
       "      <td>55410000076</td>\n",
       "      <td>18</td>\n",
       "    </tr>\n",
       "    <tr>\n",
       "      <th>2156873</th>\n",
       "      <td>208</td>\n",
       "      <td>40765530992</td>\n",
       "      <td>606</td>\n",
       "      <td>845715</td>\n",
       "      <td>1</td>\n",
       "      <td>1.99</td>\n",
       "      <td>327</td>\n",
       "      <td>0.00</td>\n",
       "      <td>1206</td>\n",
       "      <td>87</td>\n",
       "      <td>0.0</td>\n",
       "      <td>0.0</td>\n",
       "      <td>10000085475</td>\n",
       "      <td>18</td>\n",
       "    </tr>\n",
       "    <tr>\n",
       "      <th>2156878</th>\n",
       "      <td>208</td>\n",
       "      <td>40765530992</td>\n",
       "      <td>606</td>\n",
       "      <td>901062</td>\n",
       "      <td>1</td>\n",
       "      <td>3.80</td>\n",
       "      <td>327</td>\n",
       "      <td>0.00</td>\n",
       "      <td>1206</td>\n",
       "      <td>87</td>\n",
       "      <td>0.0</td>\n",
       "      <td>0.0</td>\n",
       "      <td>10000085475</td>\n",
       "      <td>18</td>\n",
       "    </tr>\n",
       "    <tr>\n",
       "      <th>2156888</th>\n",
       "      <td>208</td>\n",
       "      <td>40765530992</td>\n",
       "      <td>606</td>\n",
       "      <td>1037863</td>\n",
       "      <td>1</td>\n",
       "      <td>0.94</td>\n",
       "      <td>327</td>\n",
       "      <td>0.00</td>\n",
       "      <td>1206</td>\n",
       "      <td>87</td>\n",
       "      <td>0.0</td>\n",
       "      <td>0.0</td>\n",
       "      <td>10000085475</td>\n",
       "      <td>18</td>\n",
       "    </tr>\n",
       "    <tr>\n",
       "      <th>2156890</th>\n",
       "      <td>208</td>\n",
       "      <td>40765530992</td>\n",
       "      <td>606</td>\n",
       "      <td>1055646</td>\n",
       "      <td>1</td>\n",
       "      <td>0.99</td>\n",
       "      <td>327</td>\n",
       "      <td>0.00</td>\n",
       "      <td>1206</td>\n",
       "      <td>87</td>\n",
       "      <td>0.0</td>\n",
       "      <td>0.0</td>\n",
       "      <td>10000085475</td>\n",
       "      <td>18</td>\n",
       "    </tr>\n",
       "    <tr>\n",
       "      <th>2156893</th>\n",
       "      <td>208</td>\n",
       "      <td>40765530992</td>\n",
       "      <td>606</td>\n",
       "      <td>1068715</td>\n",
       "      <td>1</td>\n",
       "      <td>1.29</td>\n",
       "      <td>327</td>\n",
       "      <td>-0.60</td>\n",
       "      <td>1206</td>\n",
       "      <td>87</td>\n",
       "      <td>0.0</td>\n",
       "      <td>0.0</td>\n",
       "      <td>10000085475</td>\n",
       "      <td>18</td>\n",
       "    </tr>\n",
       "    <tr>\n",
       "      <th>2156894</th>\n",
       "      <td>208</td>\n",
       "      <td>40765530992</td>\n",
       "      <td>606</td>\n",
       "      <td>1117514</td>\n",
       "      <td>1</td>\n",
       "      <td>2.50</td>\n",
       "      <td>327</td>\n",
       "      <td>0.00</td>\n",
       "      <td>1206</td>\n",
       "      <td>87</td>\n",
       "      <td>0.0</td>\n",
       "      <td>0.0</td>\n",
       "      <td>10000085475</td>\n",
       "      <td>18</td>\n",
       "    </tr>\n",
       "    <tr>\n",
       "      <th>2156895</th>\n",
       "      <td>208</td>\n",
       "      <td>40765530992</td>\n",
       "      <td>606</td>\n",
       "      <td>1126786</td>\n",
       "      <td>1</td>\n",
       "      <td>4.99</td>\n",
       "      <td>327</td>\n",
       "      <td>-1.00</td>\n",
       "      <td>1206</td>\n",
       "      <td>87</td>\n",
       "      <td>0.0</td>\n",
       "      <td>0.0</td>\n",
       "      <td>10000085475</td>\n",
       "      <td>18</td>\n",
       "    </tr>\n",
       "    <tr>\n",
       "      <th>2353706</th>\n",
       "      <td>208</td>\n",
       "      <td>41531980403</td>\n",
       "      <td>654</td>\n",
       "      <td>1017772</td>\n",
       "      <td>1</td>\n",
       "      <td>1.33</td>\n",
       "      <td>327</td>\n",
       "      <td>0.00</td>\n",
       "      <td>1043</td>\n",
       "      <td>94</td>\n",
       "      <td>-0.5</td>\n",
       "      <td>-0.5</td>\n",
       "      <td>51800000050</td>\n",
       "      <td>22</td>\n",
       "    </tr>\n",
       "  </tbody>\n",
       "</table>\n",
       "</div>"
      ],
      "text/plain": [
       "        household_key    BASKET_ID  DAY PRODUCT_ID  QUANTITY  SALES_VALUE  \\\n",
       "1444279           208  33293475744  427    1004895         2         4.58   \n",
       "2120842           208  40666652921  597    1017772         1         0.88   \n",
       "2120855           208  40666652921  597   15596461         1         2.24   \n",
       "2138131           208  40715247809  601     896292         2         4.00   \n",
       "2156873           208  40765530992  606     845715         1         1.99   \n",
       "2156878           208  40765530992  606     901062         1         3.80   \n",
       "2156888           208  40765530992  606    1037863         1         0.94   \n",
       "2156890           208  40765530992  606    1055646         1         0.99   \n",
       "2156893           208  40765530992  606    1068715         1         1.29   \n",
       "2156894           208  40765530992  606    1117514         1         2.50   \n",
       "2156895           208  40765530992  606    1126786         1         4.99   \n",
       "2353706           208  41531980403  654    1017772         1         1.33   \n",
       "\n",
       "         STORE_ID  RETAIL_DISC  TRANS_TIME  WEEK_NO  COUPON_DISC  \\\n",
       "1444279       327        -1.20        1237       62         -1.0   \n",
       "2120842       327        -0.61        2039       86         -0.5   \n",
       "2120855       327        -0.75        2039       86         -1.0   \n",
       "2138131       327        -2.58        1914       87         -1.0   \n",
       "2156873       327         0.00        1206       87          0.0   \n",
       "2156878       327         0.00        1206       87          0.0   \n",
       "2156888       327         0.00        1206       87          0.0   \n",
       "2156890       327         0.00        1206       87          0.0   \n",
       "2156893       327        -0.60        1206       87          0.0   \n",
       "2156894       327         0.00        1206       87          0.0   \n",
       "2156895       327        -1.00        1206       87          0.0   \n",
       "2353706       327         0.00        1043       94         -0.5   \n",
       "\n",
       "         COUPON_MATCH_DISC   COUPON_UPC CAMPAIGN  \n",
       "1444279                0.0  55100090033        8  \n",
       "2120842               -0.5  51800015050       18  \n",
       "2120855                0.0  51920021576       18  \n",
       "2138131                0.0  55410000076       18  \n",
       "2156873                0.0  10000085475       18  \n",
       "2156878                0.0  10000085475       18  \n",
       "2156888                0.0  10000085475       18  \n",
       "2156890                0.0  10000085475       18  \n",
       "2156893                0.0  10000085475       18  \n",
       "2156894                0.0  10000085475       18  \n",
       "2156895                0.0  10000085475       18  \n",
       "2353706               -0.5  51800000050       22  "
      ]
     },
     "execution_count": 126,
     "metadata": {},
     "output_type": "execute_result"
    }
   ],
   "source": [
    "df_merged_coup_red_coup_transaction[(df_merged_coup_red_coup_transaction['COUPON_UPC'].isnull() == False) & (df_merged_coup_red_coup_transaction['household_key'] == '208')]"
   ]
  },
  {
   "cell_type": "code",
   "execution_count": 123,
   "metadata": {},
   "outputs": [
    {
     "data": {
      "text/plain": [
       "2595914"
      ]
     },
     "execution_count": 123,
     "metadata": {},
     "output_type": "execute_result"
    }
   ],
   "source": [
    "len(df_merged_coup_red_coup_transaction)"
   ]
  },
  {
   "cell_type": "code",
   "execution_count": 124,
   "metadata": {},
   "outputs": [
    {
     "data": {
      "text/html": [
       "<div>\n",
       "<style scoped>\n",
       "    .dataframe tbody tr th:only-of-type {\n",
       "        vertical-align: middle;\n",
       "    }\n",
       "\n",
       "    .dataframe tbody tr th {\n",
       "        vertical-align: top;\n",
       "    }\n",
       "\n",
       "    .dataframe thead th {\n",
       "        text-align: right;\n",
       "    }\n",
       "</style>\n",
       "<table border=\"1\" class=\"dataframe\">\n",
       "  <thead>\n",
       "    <tr style=\"text-align: right;\">\n",
       "      <th></th>\n",
       "      <th>household_key</th>\n",
       "      <th>BASKET_ID</th>\n",
       "      <th>DAY</th>\n",
       "      <th>PRODUCT_ID</th>\n",
       "      <th>QUANTITY</th>\n",
       "      <th>SALES_VALUE</th>\n",
       "      <th>STORE_ID</th>\n",
       "      <th>RETAIL_DISC</th>\n",
       "      <th>TRANS_TIME</th>\n",
       "      <th>WEEK_NO</th>\n",
       "      <th>COUPON_DISC</th>\n",
       "      <th>COUPON_MATCH_DISC</th>\n",
       "      <th>COUPON_UPC</th>\n",
       "      <th>CAMPAIGN</th>\n",
       "    </tr>\n",
       "  </thead>\n",
       "  <tbody>\n",
       "    <tr>\n",
       "      <th>0</th>\n",
       "      <td>2375</td>\n",
       "      <td>26984851472</td>\n",
       "      <td>1</td>\n",
       "      <td>1004906</td>\n",
       "      <td>1</td>\n",
       "      <td>1.39</td>\n",
       "      <td>364</td>\n",
       "      <td>-0.60</td>\n",
       "      <td>1631</td>\n",
       "      <td>1</td>\n",
       "      <td>0.0</td>\n",
       "      <td>0.0</td>\n",
       "      <td>NaN</td>\n",
       "      <td>NaN</td>\n",
       "    </tr>\n",
       "    <tr>\n",
       "      <th>1</th>\n",
       "      <td>2375</td>\n",
       "      <td>26984851472</td>\n",
       "      <td>1</td>\n",
       "      <td>1033142</td>\n",
       "      <td>1</td>\n",
       "      <td>0.82</td>\n",
       "      <td>364</td>\n",
       "      <td>0.00</td>\n",
       "      <td>1631</td>\n",
       "      <td>1</td>\n",
       "      <td>0.0</td>\n",
       "      <td>0.0</td>\n",
       "      <td>NaN</td>\n",
       "      <td>NaN</td>\n",
       "    </tr>\n",
       "    <tr>\n",
       "      <th>2</th>\n",
       "      <td>2375</td>\n",
       "      <td>26984851472</td>\n",
       "      <td>1</td>\n",
       "      <td>1036325</td>\n",
       "      <td>1</td>\n",
       "      <td>0.99</td>\n",
       "      <td>364</td>\n",
       "      <td>-0.30</td>\n",
       "      <td>1631</td>\n",
       "      <td>1</td>\n",
       "      <td>0.0</td>\n",
       "      <td>0.0</td>\n",
       "      <td>NaN</td>\n",
       "      <td>NaN</td>\n",
       "    </tr>\n",
       "    <tr>\n",
       "      <th>3</th>\n",
       "      <td>2375</td>\n",
       "      <td>26984851472</td>\n",
       "      <td>1</td>\n",
       "      <td>1082185</td>\n",
       "      <td>1</td>\n",
       "      <td>1.21</td>\n",
       "      <td>364</td>\n",
       "      <td>0.00</td>\n",
       "      <td>1631</td>\n",
       "      <td>1</td>\n",
       "      <td>0.0</td>\n",
       "      <td>0.0</td>\n",
       "      <td>NaN</td>\n",
       "      <td>NaN</td>\n",
       "    </tr>\n",
       "    <tr>\n",
       "      <th>4</th>\n",
       "      <td>2375</td>\n",
       "      <td>26984851472</td>\n",
       "      <td>1</td>\n",
       "      <td>8160430</td>\n",
       "      <td>1</td>\n",
       "      <td>1.50</td>\n",
       "      <td>364</td>\n",
       "      <td>-0.39</td>\n",
       "      <td>1631</td>\n",
       "      <td>1</td>\n",
       "      <td>0.0</td>\n",
       "      <td>0.0</td>\n",
       "      <td>NaN</td>\n",
       "      <td>NaN</td>\n",
       "    </tr>\n",
       "  </tbody>\n",
       "</table>\n",
       "</div>"
      ],
      "text/plain": [
       "  household_key    BASKET_ID DAY PRODUCT_ID  QUANTITY  SALES_VALUE  STORE_ID  \\\n",
       "0          2375  26984851472   1    1004906         1         1.39       364   \n",
       "1          2375  26984851472   1    1033142         1         0.82       364   \n",
       "2          2375  26984851472   1    1036325         1         0.99       364   \n",
       "3          2375  26984851472   1    1082185         1         1.21       364   \n",
       "4          2375  26984851472   1    8160430         1         1.50       364   \n",
       "\n",
       "   RETAIL_DISC  TRANS_TIME  WEEK_NO  COUPON_DISC  COUPON_MATCH_DISC  \\\n",
       "0        -0.60        1631        1          0.0                0.0   \n",
       "1         0.00        1631        1          0.0                0.0   \n",
       "2        -0.30        1631        1          0.0                0.0   \n",
       "3         0.00        1631        1          0.0                0.0   \n",
       "4        -0.39        1631        1          0.0                0.0   \n",
       "\n",
       "  COUPON_UPC CAMPAIGN  \n",
       "0        NaN      NaN  \n",
       "1        NaN      NaN  \n",
       "2        NaN      NaN  \n",
       "3        NaN      NaN  \n",
       "4        NaN      NaN  "
      ]
     },
     "execution_count": 124,
     "metadata": {},
     "output_type": "execute_result"
    }
   ],
   "source": [
    "df_merged_coup_red_coup_transaction.head()"
   ]
  },
  {
   "cell_type": "code",
   "execution_count": null,
   "metadata": {},
   "outputs": [],
   "source": [
    "print(df_transaction[df_transaction.household_key == \"208\"])"
   ]
  }
 ],
 "metadata": {
  "kernelspec": {
   "display_name": "Python 3",
   "language": "python",
   "name": "python3"
  },
  "language_info": {
   "codemirror_mode": {
    "name": "ipython",
    "version": 3
   },
   "file_extension": ".py",
   "mimetype": "text/x-python",
   "name": "python",
   "nbconvert_exporter": "python",
   "pygments_lexer": "ipython3",
   "version": "3.5.2"
  }
 },
 "nbformat": 4,
 "nbformat_minor": 2
}
